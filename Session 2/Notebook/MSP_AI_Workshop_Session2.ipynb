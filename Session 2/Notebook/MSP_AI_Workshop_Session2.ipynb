{
  "nbformat": 4,
  "nbformat_minor": 0,
  "metadata": {
    "colab": {
      "provenance": []
    },
    "kernelspec": {
      "name": "python3",
      "display_name": "Python 3"
    },
    "language_info": {
      "name": "python"
    }
  },
  "cells": [
    {
      "cell_type": "markdown",
      "source": [
        "# Data Preprocessing"
      ],
      "metadata": {
        "id": "m185Icq8kbH9"
      }
    },
    {
      "cell_type": "markdown",
      "source": [
        "# Import necessary libraries"
      ],
      "metadata": {
        "id": "vJAwHBcC39xx"
      }
    },
    {
      "cell_type": "code",
      "source": [
        "import pandas as pd\n",
        "import numpy as np\n",
        "import matplotlib.pyplot as plt\n",
        "import seaborn as sns\n",
        "from sklearn.preprocessing import StandardScaler, MinMaxScaler, OneHotEncoder\n",
        "from sklearn.impute import SimpleImputer\n",
        "from sklearn.decomposition import PCA\n",
        "from sklearn.ensemble import IsolationForest\n",
        "from sklearn.model_selection import train_test_split\n",
        "from collections import Counter"
      ],
      "metadata": {
        "id": "qXDQKLns3_hB"
      },
      "execution_count": 9,
      "outputs": []
    },
    {
      "cell_type": "markdown",
      "source": [
        "### pandas:\n",
        "Used for data manipulation and analysis. The DataFrame structure in pandas allows you to store and manipulate tabular data.\n",
        "### numpy:\n",
        "Useful for numerical computations, especially for working with arrays.\n",
        "### matplotlib.pyplot:\n",
        "A plotting library for creating visualizations (e.g., line graphs, scatter plots, etc.).\n",
        "### seaborn:\n",
        "Built on top of Matplotlib, Seaborn provides a high-level interface for creating attractive statistical visualizations.\n",
        "### sklearn.preprocessing.StandardScaler:\n",
        "Standardizes features by removing the mean and scaling to unit variance.\n",
        "### sklearn.preprocessing.MinMaxScaler:\n",
        "Scales features to a given range (typically between 0 and 1).\n",
        "### sklearn.preprocessing.OneHotEncoder:\n",
        "Converts categorical variables into a form that could be provided to ML algorithms to do better predictions.\n",
        "### sklearn.impute.SimpleImputer:\n",
        "Handles missing data by replacing it with a certain value (e.g., mean, median, or most frequent).\n",
        "### sklearn.decomposition.PCA:\n",
        "Implements Principal Component Analysis (PCA), which reduces the dimensionality of the dataset.\n",
        "### sklearn.ensemble.IsolationForest:\n",
        "Used for anomaly detection (detecting outliers).\n",
        "### sklearn.model_selection.train_test_split:\n",
        "Splits the dataset into training and testing sets.\n",
        "### collections.Counter:\n",
        "Counts the frequency of each element in a collection (useful for checking class balance)."
      ],
      "metadata": {
        "id": "nVlgK0At8moM"
      }
    },
    {
      "cell_type": "markdown",
      "source": [
        "# Dataset loading (for demonstration purposes, we use the Titanic dataset from seaborn)"
      ],
      "metadata": {
        "id": "_TGBPlJG4Bsl"
      }
    },
    {
      "cell_type": "code",
      "source": [
        "df = sns.load_dataset(\"titanic\")"
      ],
      "metadata": {
        "id": "BUs-Sr644G75"
      },
      "execution_count": 10,
      "outputs": []
    },
    {
      "cell_type": "markdown",
      "source": [
        "# ====================\n",
        "# 1. Data Cleaning\n",
        "# ===================="
      ],
      "metadata": {
        "id": "ASkYTz3-4NF0"
      }
    },
    {
      "cell_type": "markdown",
      "source": [
        "# --- Checking for missing values ---"
      ],
      "metadata": {
        "id": "xvYTt_mj4QfU"
      }
    },
    {
      "cell_type": "markdown",
      "source": [
        "### Solution 1: Drop missing values (Not Recommended)\n",
        "\n",
        "Remove any rows or columns that contain missing values.\n",
        "\n",
        "Let's try to remove all rows that contain null values"
      ],
      "metadata": {
        "id": "MdFF2XNgtjIc"
      }
    },
    {
      "cell_type": "markdown",
      "source": [
        "### Solution 2: Filling the Missing Values - Imputation\n",
        "\n",
        "The possible ways to do this are:\n",
        "1- Filling the missing data with the mean or median value if it's a numerical variable.\n",
        "\n",
        "2- Filling the missing data with mode if it's a categorical value.\n",
        "\n",
        "3- Filling the categorical value with a new type for the missing values.\n"
      ],
      "metadata": {
        "id": "NCj02KTrvUya"
      }
    },
    {
      "cell_type": "code",
      "source": [
        "print(\"Missing values per column:\")\n",
        "print(df.isnull().sum())"
      ],
      "metadata": {
        "colab": {
          "base_uri": "https://localhost:8080/"
        },
        "id": "QlGlhEM24LN4",
        "outputId": "acda6640-1430-4403-9cb2-ddc9259e3e1c"
      },
      "execution_count": 11,
      "outputs": [
        {
          "output_type": "stream",
          "name": "stdout",
          "text": [
            "Missing values per column:\n",
            "survived         0\n",
            "pclass           0\n",
            "sex              0\n",
            "age            177\n",
            "sibsp            0\n",
            "parch            0\n",
            "fare             0\n",
            "embarked         2\n",
            "class            0\n",
            "who              0\n",
            "adult_male       0\n",
            "deck           688\n",
            "embark_town      2\n",
            "alive            0\n",
            "alone            0\n",
            "dtype: int64\n"
          ]
        }
      ]
    },
    {
      "cell_type": "markdown",
      "source": [
        "# Handling missing values using SimpleImputer\n",
        "# Imputing numerical features with the median, categorical features with the most frequent value"
      ],
      "metadata": {
        "id": "oScH93LE4W7d"
      }
    },
    {
      "cell_type": "code",
      "source": [
        "imputer_num = SimpleImputer(strategy='median')\n",
        "imputer_cat = SimpleImputer(strategy='most_frequent')"
      ],
      "metadata": {
        "id": "t6Up84594TS-"
      },
      "execution_count": 12,
      "outputs": []
    },
    {
      "cell_type": "markdown",
      "source": [
        "# Applying imputers"
      ],
      "metadata": {
        "id": "SoEvEwFL4cON"
      }
    },
    {
      "cell_type": "code",
      "source": [
        "df['age'] = imputer_num.fit_transform(df[['age']])\n",
        "df['embarked'] = imputer_cat.fit_transform(df[['embarked']]).ravel()"
      ],
      "metadata": {
        "id": "mHxrMHfF4fcr"
      },
      "execution_count": 15,
      "outputs": []
    },
    {
      "cell_type": "code",
      "source": [
        "print(\"\\nAfter Imputation:\")\n",
        "print(df.isnull().sum())"
      ],
      "metadata": {
        "colab": {
          "base_uri": "https://localhost:8080/"
        },
        "id": "zm0vLVqv4htM",
        "outputId": "e90909df-6c10-408e-8cf1-78717215f72f"
      },
      "execution_count": 16,
      "outputs": [
        {
          "output_type": "stream",
          "name": "stdout",
          "text": [
            "\n",
            "After Imputation:\n",
            "survived         0\n",
            "pclass           0\n",
            "sex              0\n",
            "age              0\n",
            "sibsp            0\n",
            "parch            0\n",
            "fare             0\n",
            "embarked         0\n",
            "class            0\n",
            "who              0\n",
            "adult_male       0\n",
            "deck           688\n",
            "embark_town      2\n",
            "alive            0\n",
            "alone            0\n",
            "dtype: int64\n"
          ]
        }
      ]
    },
    {
      "cell_type": "markdown",
      "source": [
        "# Dropping irrelevant columns (example: cabin is mostly null)"
      ],
      "metadata": {
        "id": "ND0vNkZR4jrf"
      }
    },
    {
      "cell_type": "code",
      "source": [
        "df_cleaned = df.drop(columns=['deck', 'embark_town'])"
      ],
      "metadata": {
        "id": "PWRklyRv4lqV"
      },
      "execution_count": 19,
      "outputs": []
    },
    {
      "cell_type": "markdown",
      "source": [
        "# ====================\n",
        "# 2. Handling Outliers (Noise reduction)\n",
        "# ===================="
      ],
      "metadata": {
        "id": "sXXaFsHn4nzJ"
      }
    },
    {
      "cell_type": "markdown",
      "source": [
        "# --- Visualizing outliers using box plots ---"
      ],
      "metadata": {
        "id": "2abLO18L4pnV"
      }
    },
    {
      "cell_type": "code",
      "source": [
        "plt.figure(figsize=(10, 6))\n",
        "sns.boxplot(data=df_cleaned[['age', 'fare']])\n",
        "plt.title(\"Outlier detection using Box Plot\")\n",
        "plt.show()"
      ],
      "metadata": {
        "colab": {
          "base_uri": "https://localhost:8080/",
          "height": 545
        },
        "id": "U8LREQyi4rmJ",
        "outputId": "1d3b7823-319b-43b9-a727-33eadb9c825f"
      },
      "execution_count": 20,
      "outputs": [
        {
          "output_type": "display_data",
          "data": {
            "text/plain": [
              "<Figure size 1000x600 with 1 Axes>"
            ],
            "image/png": "[encoded data removed]"
          },
          "metadata": {}
        }
      ]
    },
    {
      "cell_type": "markdown",
      "source": [
        "# --- Detecting outliers using Isolation Forest ---"
      ],
      "metadata": {
        "id": "pdAFL6VN4uDc"
      }
    },
    {
      "cell_type": "code",
      "source": [
        "iso_forest = IsolationForest(contamination=0.05)  # 5% contamination assumed for outliers\n",
        "outliers = iso_forest.fit_predict(df_cleaned[['age', 'fare']])"
      ],
      "metadata": {
        "id": "g0sK98s54wNK"
      },
      "execution_count": 21,
      "outputs": []
    },
    {
      "cell_type": "markdown",
      "source": [
        "# Labeling outliers (-1 means outlier)"
      ],
      "metadata": {
        "id": "sHF-zjG44y0U"
      }
    },
    {
      "cell_type": "code",
      "source": [
        "df_cleaned['outlier'] = outliers\n",
        "print(f\"\\nNumber of outliers detected: {(df_cleaned['outlier'] == -1).sum()}\")"
      ],
      "metadata": {
        "colab": {
          "base_uri": "https://localhost:8080/"
        },
        "id": "NzhEhDz040wm",
        "outputId": "0607c903-fd21-4276-bf0c-7d4eb1984ca8"
      },
      "execution_count": 22,
      "outputs": [
        {
          "output_type": "stream",
          "name": "stdout",
          "text": [
            "\n",
            "Number of outliers detected: 45\n"
          ]
        }
      ]
    },
    {
      "cell_type": "markdown",
      "source": [
        "# Removing outliers"
      ],
      "metadata": {
        "id": "_ZCbzYNh42pz"
      }
    },
    {
      "cell_type": "code",
      "source": [
        "df_no_outliers = df_cleaned[df_cleaned['outlier'] != -1]"
      ],
      "metadata": {
        "id": "fG54-i7644p-"
      },
      "execution_count": 23,
      "outputs": []
    },
    {
      "cell_type": "markdown",
      "source": [
        "# ====================\n",
        "# 3. Normalization and Scaling\n",
        "# ===================="
      ],
      "metadata": {
        "id": "m15yFE7K462G"
      }
    },
    {
      "cell_type": "markdown",
      "source": [
        "# --- Standardization (mean=0, variance=1) ---"
      ],
      "metadata": {
        "id": "GeSakcFh48oO"
      }
    },
    {
      "cell_type": "code",
      "source": [
        "scaler = StandardScaler()\n",
        "df_scaled = df_no_outliers.copy()\n",
        "df_scaled[['age', 'fare']] = scaler.fit_transform(df_no_outliers[['age', 'fare']])"
      ],
      "metadata": {
        "id": "lSVQZgWY49ai"
      },
      "execution_count": 24,
      "outputs": []
    },
    {
      "cell_type": "code",
      "source": [
        "print(\"\\nStandardized age and fare:\")\n",
        "print(df_scaled[['age', 'fare']].head())"
      ],
      "metadata": {
        "colab": {
          "base_uri": "https://localhost:8080/"
        },
        "id": "k-DS-89Q5BAj",
        "outputId": "06d93340-7495-4ceb-e182-531de2c33d54"
      },
      "execution_count": 25,
      "outputs": [
        {
          "output_type": "stream",
          "name": "stdout",
          "text": [
            "\n",
            "Standardized age and fare:\n",
            "        age      fare\n",
            "0 -0.563314 -0.683659\n",
            "1  0.747108  1.892549\n",
            "2 -0.235708 -0.656503\n",
            "3  0.501404  1.160993\n",
            "4  0.501404 -0.651473\n"
          ]
        }
      ]
    },
    {
      "cell_type": "markdown",
      "source": [
        "# --- Min-Max Scaling (scaled to a range [0, 1]) ---"
      ],
      "metadata": {
        "id": "ppk1z3fM5EEl"
      }
    },
    {
      "cell_type": "code",
      "source": [
        "min_max_scaler = MinMaxScaler()\n",
        "df_scaled[['age', 'fare']] = min_max_scaler.fit_transform(df_no_outliers[['age', 'fare']])"
      ],
      "metadata": {
        "id": "ArV_QGH45IH1"
      },
      "execution_count": 26,
      "outputs": []
    },
    {
      "cell_type": "code",
      "source": [
        "print(\"\\nMin-Max Scaled age and fare:\")\n",
        "print(df_scaled[['age', 'fare']].head())"
      ],
      "metadata": {
        "colab": {
          "base_uri": "https://localhost:8080/"
        },
        "id": "4CsCiHhB5OBh",
        "outputId": "08ad626c-1ddd-4cfb-c7ea-c84505097f16"
      },
      "execution_count": 27,
      "outputs": [
        {
          "output_type": "stream",
          "name": "stdout",
          "text": [
            "\n",
            "Min-Max Scaled age and fare:\n",
            "        age      fare\n",
            "0  0.329064  0.049481\n",
            "1  0.573041  0.486506\n",
            "2  0.390058  0.054088\n",
            "3  0.527295  0.362406\n",
            "4  0.527295  0.054941\n"
          ]
        }
      ]
    },
    {
      "cell_type": "markdown",
      "source": [
        "# ====================\n",
        "# 4. Handling Missing Values (Unbalanced Data)\n",
        "# ===================="
      ],
      "metadata": {
        "id": "plb7zfhE5Oxc"
      }
    },
    {
      "cell_type": "markdown",
      "source": [
        "# --- Checking for class imbalance ---"
      ],
      "metadata": {
        "id": "5TP_nYH55Sx5"
      }
    },
    {
      "cell_type": "code",
      "source": [
        "print(\"\\nClass distribution in 'survived' feature:\")\n",
        "print(df['survived'].value_counts())"
      ],
      "metadata": {
        "colab": {
          "base_uri": "https://localhost:8080/"
        },
        "id": "v9joOlKn5RMq",
        "outputId": "8fd294e8-8aa7-46d3-fb0e-9a17a035f15f"
      },
      "execution_count": 28,
      "outputs": [
        {
          "output_type": "stream",
          "name": "stdout",
          "text": [
            "\n",
            "Class distribution in 'survived' feature:\n",
            "survived\n",
            "0    549\n",
            "1    342\n",
            "Name: count, dtype: int64\n"
          ]
        }
      ]
    },
    {
      "cell_type": "markdown",
      "source": [
        "# Using resampling to balance the classes"
      ],
      "metadata": {
        "id": "iZSxJFDA5Xg-"
      }
    },
    {
      "cell_type": "code",
      "source": [
        "from sklearn.utils import resample"
      ],
      "metadata": {
        "id": "9gFny-Fk5YR1"
      },
      "execution_count": 29,
      "outputs": []
    },
    {
      "cell_type": "markdown",
      "source": [
        "# Separate majority and minority classes"
      ],
      "metadata": {
        "id": "4i7n2Fqb5bxX"
      }
    },
    {
      "cell_type": "code",
      "source": [
        "df_majority = df[df['survived'] == 0]\n",
        "df_minority = df[df['survived'] == 1]"
      ],
      "metadata": {
        "id": "hU6t8HWG5csd"
      },
      "execution_count": 30,
      "outputs": []
    },
    {
      "cell_type": "markdown",
      "source": [
        "# Upsample minority class"
      ],
      "metadata": {
        "id": "0LYsM9KV5hGY"
      }
    },
    {
      "cell_type": "code",
      "source": [
        "df_minority_upsampled = resample(df_minority, replace=True, n_samples=len(df_majority), random_state=42)"
      ],
      "metadata": {
        "id": "M6eB_NR55k56"
      },
      "execution_count": 31,
      "outputs": []
    },
    {
      "cell_type": "markdown",
      "source": [
        "# Combine majority class with upsampled minority class"
      ],
      "metadata": {
        "id": "jWeGlIO25m4H"
      }
    },
    {
      "cell_type": "code",
      "source": [
        "df_balanced = pd.concat([df_majority, df_minority_upsampled])"
      ],
      "metadata": {
        "id": "DbRmQe_05npR"
      },
      "execution_count": 32,
      "outputs": []
    },
    {
      "cell_type": "code",
      "source": [
        "print(\"\\nAfter balancing the classes:\")\n",
        "print(df_balanced['survived'].value_counts())"
      ],
      "metadata": {
        "colab": {
          "base_uri": "https://localhost:8080/"
        },
        "id": "iFTxKuCf5q6R",
        "outputId": "15fd3a41-a092-4fa6-c888-a07d86e2d86f"
      },
      "execution_count": 33,
      "outputs": [
        {
          "output_type": "stream",
          "name": "stdout",
          "text": [
            "\n",
            "After balancing the classes:\n",
            "survived\n",
            "0    549\n",
            "1    549\n",
            "Name: count, dtype: int64\n"
          ]
        }
      ]
    },
    {
      "cell_type": "markdown",
      "source": [
        "# ====================\n",
        "# 5. Feature Engineering\n",
        "# ===================="
      ],
      "metadata": {
        "id": "TDKApDnz5tUo"
      }
    },
    {
      "cell_type": "markdown",
      "source": [
        "# --- One-Hot Encoding ---"
      ],
      "metadata": {
        "id": "-qnXQoG45wIY"
      }
    },
    {
      "cell_type": "code",
      "source": [
        "encoder = OneHotEncoder(drop='first')  # Drop first to avoid multicollinearity\n",
        "encoded_columns = pd.DataFrame(encoder.fit_transform(df_balanced[['sex', 'embarked']]).toarray(), columns=encoder.get_feature_names_out(['sex', 'embarked']))"
      ],
      "metadata": {
        "id": "oPvZNGF45uSC"
      },
      "execution_count": 34,
      "outputs": []
    },
    {
      "cell_type": "markdown",
      "source": [
        "# Adding the encoded columns to the dataset"
      ],
      "metadata": {
        "id": "k-AqCB-154u3"
      }
    },
    {
      "cell_type": "code",
      "source": [
        "df_encoded = df_balanced.join(encoded_columns).drop(columns=['sex', 'embarked'])\n",
        "print(\"\\nAfter One-Hot Encoding:\")\n",
        "print(df_encoded.head())"
      ],
      "metadata": {
        "colab": {
          "base_uri": "https://localhost:8080/"
        },
        "id": "sVJgfoWW57Et",
        "outputId": "a3b109e9-c045-43f6-84df-c3c5c19f3494"
      },
      "execution_count": 35,
      "outputs": [
        {
          "output_type": "stream",
          "name": "stdout",
          "text": [
            "\n",
            "After One-Hot Encoding:\n",
            "   survived  pclass   age  sibsp  parch     fare  class    who  adult_male  \\\n",
            "0         0       3  22.0      1      0   7.2500  Third    man        True   \n",
            "4         0       3  35.0      0      0   8.0500  Third    man        True   \n",
            "5         0       3  28.0      0      0   8.4583  Third    man        True   \n",
            "6         0       1  54.0      0      0  51.8625  First    man        True   \n",
            "7         0       3   2.0      3      1  21.0750  Third  child       False   \n",
            "\n",
            "  deck  embark_town alive  alone  sex_male  embarked_Q  embarked_S  \n",
            "0  NaN  Southampton    no  False       1.0         0.0         1.0  \n",
            "4  NaN  Southampton    no   True       1.0         0.0         1.0  \n",
            "5  NaN   Queenstown    no   True       1.0         0.0         1.0  \n",
            "6    E  Southampton    no   True       1.0         0.0         1.0  \n",
            "7  NaN  Southampton    no  False       0.0         0.0         1.0  \n"
          ]
        }
      ]
    },
    {
      "cell_type": "markdown",
      "source": [
        "# ====================\n",
        "# 6. Dimensionality Reduction\n",
        "# ===================="
      ],
      "metadata": {
        "id": "4lJUWYnQ59TT"
      }
    },
    {
      "cell_type": "markdown",
      "source": [
        "# --- Principal Component Analysis (PCA) ---\n",
        "# We reduce the dataset to 2 principal components for visualization"
      ],
      "metadata": {
        "id": "ruTOXkKV5_w9"
      }
    },
    {
      "cell_type": "code",
      "source": [
        "# Select only numerical features for PCA\n",
        "numerical_features = df_encoded.select_dtypes(include=['number']).drop(columns=['survived'])\n",
        "\n",
        "# Scale the numerical features\n",
        "scaler = StandardScaler()\n",
        "scaled_features = scaler.fit_transform(numerical_features)\n",
        "\n",
        "# Apply PCA\n",
        "pca = PCA(n_components=2)\n",
        "pca_components = pca.fit_transform(scaled_features)\n",
        "\n",
        "# Create a DataFrame with the PCA components\n",
        "pca_df = pd.DataFrame(data=pca_components, columns=['PC1', 'PC2'], index=df_encoded.index)\n",
        "\n",
        "# Concatenate the PCA components with the original DataFrame\n",
        "df_encoded_pca = pd.concat([df_encoded, pca_df], axis=1)\n",
        "\n",
        "print(\"\\nAfter PCA:\")\n",
        "print(df_encoded_pca.head())"
      ],
      "metadata": {
        "colab": {
          "base_uri": "https://localhost:8080/"
        },
        "id": "dTpbV_kk5-Is",
        "outputId": "72310dda-093d-4b0d-97d4-d586b1a5ddd2"
      },
      "execution_count": 40,
      "outputs": [
        {
          "output_type": "stream",
          "name": "stdout",
          "text": [
            "\n",
            "After PCA:\n",
            "   survived  pclass   age  sibsp  parch     fare  class    who  adult_male  \\\n",
            "0         0       3  22.0      1      0   7.2500  Third    man        True   \n",
            "4         0       3  35.0      0      0   8.0500  Third    man        True   \n",
            "5         0       3  28.0      0      0   8.4583  Third    man        True   \n",
            "6         0       1  54.0      0      0  51.8625  First    man        True   \n",
            "7         0       3   2.0      3      1  21.0750  Third  child       False   \n",
            "\n",
            "  deck  embark_town alive  alone  sex_male  embarked_Q  embarked_S       PC1  \\\n",
            "0  NaN  Southampton    no  False       1.0         0.0         1.0  1.369204   \n",
            "4  NaN  Southampton    no   True       1.0         0.0         1.0  1.087300   \n",
            "5  NaN   Queenstown    no   True       1.0         0.0         1.0  1.258583   \n",
            "6    E  Southampton    no   True       1.0         0.0         1.0 -1.323070   \n",
            "7  NaN  Southampton    no  False       0.0         0.0         1.0  1.299573   \n",
            "\n",
            "        PC2  \n",
            "0  0.390573  \n",
            "4 -0.375123  \n",
            "5 -0.230239  \n",
            "6 -0.463460  \n",
            "7  2.275092  \n"
          ]
        }
      ]
    },
    {
      "cell_type": "code",
      "source": [
        "print(\"\\nExplained Variance by PCA components:\")\n",
        "print(pca.explained_variance_ratio_)"
      ],
      "metadata": {
        "colab": {
          "base_uri": "https://localhost:8080/"
        },
        "id": "vynMWXR56EW8",
        "outputId": "54fc6603-48f0-41d4-d02b-67bb28b35896"
      },
      "execution_count": 41,
      "outputs": [
        {
          "output_type": "stream",
          "name": "stdout",
          "text": [
            "\n",
            "Explained Variance by PCA components:\n",
            "[0.21878544 0.20703076]\n"
          ]
        }
      ]
    },
    {
      "cell_type": "markdown",
      "source": [
        "# Visualizing the PCA components"
      ],
      "metadata": {
        "id": "OxdBAZ0c6GJA"
      }
    },
    {
      "cell_type": "code",
      "source": [
        "plt.figure(figsize=(8, 6))\n",
        "plt.scatter(pca_components[:, 0], pca_components[:, 1], c=df_encoded['survived'], cmap='coolwarm')\n",
        "plt.title(\"PCA: Dimensionality Reduction to 2 Components\")\n",
        "plt.xlabel(\"PCA Component 1\")\n",
        "plt.ylabel(\"PCA Component 2\")\n",
        "plt.colorbar(label=\"Survived\")\n",
        "plt.show()"
      ],
      "metadata": {
        "colab": {
          "base_uri": "https://localhost:8080/",
          "height": 564
        },
        "id": "1U-kMqZ06II3",
        "outputId": "ab3c7989-7dea-4a8a-80e8-ac611f90728d"
      },
      "execution_count": 42,
      "outputs": [
        {
          "output_type": "display_data",
          "data": {
            "text/plain": [
              "<Figure size 800x600 with 2 Axes>"
            ],
            "image/png": "[encoded data removed]"
          },
          "metadata": {}
        }
      ]
    },
    {
      "cell_type": "code",
      "source": [
        "print(\"\\nData Preprocessing is complete. The dataset has been cleaned, scaled, and processed for further analysis.\")"
      ],
      "metadata": {
        "colab": {
          "base_uri": "https://localhost:8080/"
        },
        "id": "AbXN4dCu6K3y",
        "outputId": "d7def6bc-2725-476e-92dc-ef1b9550f562"
      },
      "execution_count": 43,
      "outputs": [
        {
          "output_type": "stream",
          "name": "stdout",
          "text": [
            "\n",
            "Data Preprocessing is complete. The dataset has been cleaned, scaled, and processed for further analysis.\n"
          ]
        }
      ]
    },
    {
      "cell_type": "markdown",
      "source": [
        "### 1. Data Cleaning:\n",
        "\n",
        "Detect and impute missing values for numerical (using median) and categorical (using the most frequent) columns.\n",
        "Dropped irrelevant columns with excessive missing values (like 'cabin').\n",
        "\n",
        "\n",
        "### 2. Handling Outliers:\n",
        "\n",
        "Visualized outliers using a boxplot for features like age and fare.\n",
        "Used Isolation Forest to detect and remove outliers.\n",
        "\n",
        "\n",
        "### 3. Normalization and Scaling:\n",
        "\n",
        "Applied both standardization and Min-Max scaling to numerical columns (age and fare) to demonstrate the differences.\n",
        "\n",
        "\n",
        "### 4. Handling Unbalanced Data:\n",
        "\n",
        "Checked the class imbalance in the survived feature and balanced the classes using upsampling.\n",
        "\n",
        "\n",
        "### 5. Feature Engineering:\n",
        "\n",
        "Demonstrated one-hot encoding for categorical variables (sex and embarked), avoiding multicollinearity by dropping the first category.\n",
        "\n",
        "\n",
        "### 6. Dimensionality Reduction:\n",
        "\n",
        "Performed Principal Component Analysis (PCA) to reduce the dataset's dimensionality to two principal components and visualized the result."
      ],
      "metadata": {
        "id": "VjaOkjan6oxE"
      }
    }
  ]
}