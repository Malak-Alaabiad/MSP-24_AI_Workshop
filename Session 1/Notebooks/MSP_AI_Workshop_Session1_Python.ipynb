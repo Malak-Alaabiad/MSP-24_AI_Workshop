{
  "cells": [
    {
      "cell_type": "markdown",
      "metadata": {
        "id": "NEJNhMl8Bgg_"
      },
      "source": [
        "#Data Types:\n",
        "**TO AVOUD SYNTAX ERROR**\n",
        "1. int ( 1, 2, 3, ...)\n",
        "2. float ( 2.0, 3.5, ...)\n",
        "3. str (Anything written inside this brackets \"   \" or '   ') **Not String**\n",
        "4. bool (True, False) **Starts with capital T and F**\n",
        "\n",
        "Note:\n",
        "\n",
        "\n",
        "a. In python we don't write the data types before the variable name.\n",
        "\n",
        "\n",
        "b. Single and double cotations are the same in Python."
      ]
    },
    {
      "cell_type": "markdown",
      "metadata": {
        "id": "yF0Jb8yVDLLb"
      },
      "source": [
        "#Variable names\n",
        "There are some rules when writing a variable name:\n",
        "\n",
        "1. NEVER start with a number\n",
        "2. NO spaces\n",
        "3. NEVER use a built-in function name as a variable name"
      ]
    },
    {
      "cell_type": "markdown",
      "metadata": {
        "id": "nnWRE_xcD648"
      },
      "source": [
        "###To output the variable data type use:"
      ]
    },
    {
      "cell_type": "code",
      "execution_count": null,
      "metadata": {
        "colab": {
          "base_uri": "https://localhost:8080/"
        },
        "id": "cZUE1ULFCeyF",
        "outputId": "28de9f91-b346-4f44-cd26-8d7b3b8a59c5"
      },
      "outputs": [
        {
          "name": "stdout",
          "output_type": "stream",
          "text": [
            "<class 'str'>\n"
          ]
        }
      ],
      "source": [
        "x = \"Malak\"\n",
        "print(type(x))"
      ]
    },
    {
      "cell_type": "markdown",
      "metadata": {
        "id": "vRjIgobhE18y"
      },
      "source": [
        "# String concatenation"
      ]
    },
    {
      "cell_type": "code",
      "execution_count": null,
      "metadata": {
        "colab": {
          "base_uri": "https://localhost:8080/"
        },
        "id": "7ASIl9ZnE6f2",
        "outputId": "d2ceedcd-fa0f-40cd-9223-9840b2449a3a"
      },
      "outputs": [
        {
          "name": "stdout",
          "output_type": "stream",
          "text": [
            "y + z = 9\n"
          ]
        }
      ],
      "source": [
        "y = 3\n",
        "z = 6\n",
        "print(f'y + z = {y + z}') #f refers to format\n",
        "# We use the string concatenation in AI when we would write \"The model performance is kzaaa\" w ntl3 b3dha el accuracy"
      ]
    },
    {
      "cell_type": "code",
      "execution_count": 2,
      "metadata": {
        "colab": {
          "base_uri": "https://localhost:8080/"
        },
        "id": "5JeVLQxXGBVu",
        "outputId": "159a88f1-a83d-4e63-a5db-ea8f82417264"
      },
      "outputs": [
        {
          "output_type": "stream",
          "name": "stdout",
          "text": [
            "My name is Malak, I have 22 years old\n"
          ]
        }
      ],
      "source": [
        "name = 'Malak'\n",
        "age = 22\n",
        "\n",
        "print(f\"My name is {name}, I have {age} years old\")"
      ]
    },
    {
      "cell_type": "markdown",
      "metadata": {
        "id": "g-Bxbxg-or9J"
      },
      "source": [
        "#Casting"
      ]
    },
    {
      "cell_type": "code",
      "execution_count": null,
      "metadata": {
        "colab": {
          "base_uri": "https://localhost:8080/"
        },
        "id": "jCarmdgGNvs9",
        "outputId": "ad60725e-1fae-42ed-d591-542bfb588fc5"
      },
      "outputs": [
        {
          "name": "stdout",
          "output_type": "stream",
          "text": [
            "3\n"
          ]
        }
      ],
      "source": [
        "x = 3.369\n",
        "print(int(x))"
      ]
    },
    {
      "cell_type": "code",
      "execution_count": null,
      "metadata": {
        "colab": {
          "base_uri": "https://localhost:8080/"
        },
        "id": "od703zYqN3ze",
        "outputId": "25bd3393-2d39-466b-c462-5312417483fe"
      },
      "outputs": [
        {
          "name": "stdout",
          "output_type": "stream",
          "text": [
            "2\n"
          ]
        }
      ],
      "source": [
        "print(5//2)"
      ]
    },
    {
      "cell_type": "markdown",
      "metadata": {
        "id": "_tNrTLQMGTXT"
      },
      "source": [
        "#Tb lw 3ayzen nktb 7aga zy is msln bel ', nfr2 ezay benha w ben el cotations?\n",
        "Fe el 7ala de bn7ot el str fe double cotations"
      ]
    },
    {
      "cell_type": "markdown",
      "metadata": {
        "id": "NFEZ9_I5G72C"
      },
      "source": [
        "#Take input from users\n",
        "\n",
        "lw mktbt4 el data type 2bl ma tktb el input hya5do by default as str f2ftkr tktb el data type daymn 2bl ma ta5od ay input ya hndsa"
      ]
    },
    {
      "cell_type": "code",
      "execution_count": 1,
      "metadata": {
        "colab": {
          "base_uri": "https://localhost:8080/"
        },
        "id": "a6z3GtpkG-9y",
        "outputId": "bf194aaf-2c16-48bd-ba8c-c0fde1485822"
      },
      "outputs": [
        {
          "name": "stdout",
          "output_type": "stream",
          "text": [
            "What is your name? Malak\n"
          ]
        }
      ],
      "source": [
        "name = str(input('What is your name? '))"
      ]
    },
    {
      "cell_type": "code",
      "execution_count": 3,
      "metadata": {
        "colab": {
          "base_uri": "https://localhost:8080/",
          "height": 35
        },
        "id": "m2pbNMSpHRxt",
        "outputId": "5cb5a070-8ac7-4f87-fa39-4173287e0b3d"
      },
      "outputs": [
        {
          "output_type": "execute_result",
          "data": {
            "text/plain": [
              "'Malak'"
            ],
            "application/vnd.google.colaboratory.intrinsic+json": {
              "type": "string"
            }
          },
          "metadata": {},
          "execution_count": 3
        }
      ],
      "source": [
        "name"
      ]
    },
    {
      "cell_type": "markdown",
      "metadata": {
        "id": "TDfx2hZRHbJf"
      },
      "source": [
        "#Conditions\n",
        "\n",
        "5od balk ya memo else if in python is written **elif**"
      ]
    },
    {
      "cell_type": "code",
      "execution_count": 5,
      "metadata": {
        "id": "iSUYPJpQHkFn"
      },
      "outputs": [],
      "source": [
        "x = \"Malak\""
      ]
    },
    {
      "cell_type": "code",
      "execution_count": 6,
      "metadata": {
        "colab": {
          "base_uri": "https://localhost:8080/"
        },
        "id": "peKilKCTHc-O",
        "outputId": "79a92ef3-8b9a-44bc-eb7f-fa7a83101bad"
      },
      "outputs": [
        {
          "output_type": "stream",
          "name": "stdout",
          "text": [
            "Hi!!Malak\n"
          ]
        }
      ],
      "source": [
        "if x == \"Menna\":\n",
        "  print('Hi!! Menna')\n",
        "  print(3+6)\n",
        "print(\"Hi!!Malak\")"
      ]
    },
    {
      "cell_type": "code",
      "execution_count": 7,
      "metadata": {
        "id": "pQykStQgH-kl"
      },
      "outputs": [],
      "source": [
        "password = 'Malak123'"
      ]
    },
    {
      "cell_type": "code",
      "execution_count": 8,
      "metadata": {
        "colab": {
          "base_uri": "https://localhost:8080/"
        },
        "id": "lVsznWdhIBN8",
        "outputId": "94cf1e88-7ce6-4bc2-f5bb-6fa60bb2d0f3"
      },
      "outputs": [
        {
          "output_type": "stream",
          "name": "stdout",
          "text": [
            "Enter the wifi password: Malak123\n",
            "You are in\n"
          ]
        }
      ],
      "source": [
        "ur_pass = str(input('Enter the wifi password: '))\n",
        "if ur_pass == password:\n",
        "  print('You are in')\n",
        "else:\n",
        "  print('Invalid password')"
      ]
    },
    {
      "cell_type": "markdown",
      "metadata": {
        "id": "P-DJbVfeIbJy"
      },
      "source": [
        "#Loops"
      ]
    },
    {
      "cell_type": "code",
      "execution_count": null,
      "metadata": {
        "colab": {
          "base_uri": "https://localhost:8080/"
        },
        "id": "mxJe8upNIazI",
        "outputId": "15e5f3db-db27-4dd7-d4ef-1fcc9938bcfc"
      },
      "outputs": [
        {
          "name": "stdout",
          "output_type": "stream",
          "text": [
            "10\n",
            "15\n",
            "20\n",
            "25\n",
            "30\n",
            "35\n",
            "40\n",
            "45\n",
            "50\n",
            "55\n",
            "60\n",
            "65\n",
            "70\n",
            "75\n",
            "80\n",
            "85\n",
            "90\n",
            "95\n"
          ]
        }
      ],
      "source": [
        "for i in range(10, 100, 5): #(Start i from 10, End at 100, num of steps is: 5)\n",
        "# if we don't write the start of the range it will be 0 , step will be 1 by default\n",
        "  print(i)"
      ]
    },
    {
      "cell_type": "markdown",
      "metadata": {
        "id": "toIb95mOI0im"
      },
      "source": [
        "#Your Task :D\n",
        "\n",
        "Take 3 inputs from the user (name, age, salary)\n",
        "\n",
        "if his age is over 30 years old, give him a rais by 30%\n",
        "\n",
        "else if salary less than 5k , give him a rais by 50%\n",
        "\n",
        "else if salary between 5k and 10k , give him a rais by 20%\n",
        "\n",
        "else ... no rais"
      ]
    },
    {
      "cell_type": "code",
      "execution_count": 10,
      "metadata": {
        "colab": {
          "base_uri": "https://localhost:8080/"
        },
        "id": "ZfliljAMJvIy",
        "outputId": "dc299b4d-83dc-4e3c-b82c-3d77b843bc44"
      },
      "outputs": [
        {
          "output_type": "stream",
          "name": "stdout",
          "text": [
            "What is your name? Malak\n",
            "What is your age? 23\n",
            "What is your salary? 1500\n",
            "Your new salary is 2250.0\n"
          ]
        }
      ],
      "source": [
        "name = input('What is your name? ')\n",
        "age = float(input('What is your age? '))\n",
        "salary = float(input('What is your salary? '))\n",
        "if age > 30:\n",
        "  print(f'Your new salary is {salary * 1.3}')\n",
        "elif salary < 5000:\n",
        "  print(f'Your new salary is {salary * 1.5}')\n",
        "elif salary > 5000 and salary < 10000: # In python we can write \"and , or\" and we can also write \"& , |\"\n",
        "  print(f'Your new salary is {salary * 1.2}')\n",
        "else:\n",
        "  print(f'your salary is {salary}')"
      ]
    },
    {
      "cell_type": "markdown",
      "metadata": {
        "id": "8ialzYwrLgaa"
      },
      "source": [
        "# 7ta mn 7elwa kda:\n",
        "lw ktbt esm el variable fe 2a5er el cell hy3mlo print lw7do mn 8er ma tktb print"
      ]
    },
    {
      "cell_type": "code",
      "execution_count": 11,
      "metadata": {
        "colab": {
          "base_uri": "https://localhost:8080/",
          "height": 35
        },
        "id": "Asgy0HKpL25P",
        "outputId": "a1232b2b-7748-4d28-e4b1-d0346b7cd6da"
      },
      "outputs": [
        {
          "output_type": "execute_result",
          "data": {
            "text/plain": [
              "'Malak'"
            ],
            "application/vnd.google.colaboratory.intrinsic+json": {
              "type": "string"
            }
          },
          "metadata": {},
          "execution_count": 11
        }
      ],
      "source": [
        "x = \"Malak\"\n",
        "x"
      ]
    },
    {
      "cell_type": "markdown",
      "metadata": {
        "id": "3FmsVpnhMCdx"
      },
      "source": [
        "###Print supports the operations like that:"
      ]
    },
    {
      "cell_type": "code",
      "execution_count": null,
      "metadata": {
        "colab": {
          "base_uri": "https://localhost:8080/"
        },
        "id": "OAWbW4msMuKP",
        "outputId": "4566f469-4312-45d4-915c-97f8df324852"
      },
      "outputs": [
        {
          "name": "stdout",
          "output_type": "stream",
          "text": [
            "9\n"
          ]
        }
      ],
      "source": [
        "print(3+6)"
      ]
    },
    {
      "cell_type": "markdown",
      "metadata": {
        "id": "rSfwJcJTMuj2"
      },
      "source": [
        "#Functions"
      ]
    },
    {
      "cell_type": "code",
      "execution_count": null,
      "metadata": {
        "id": "6t881MilMKng"
      },
      "outputs": [],
      "source": [
        "def calc():\n",
        "  n1 = int(input('Enter the first number: '))\n",
        "  sign = str(input('Enter the operation: '))\n",
        "  n2 = int(input('Enter the second number: '))\n",
        "\n",
        "\n",
        "  if sign == '+':\n",
        "    print(n1 + n2)\n",
        "  elif sign == '-':\n",
        "    print(n1 - n2)\n",
        "  elif sign == '*':\n",
        "    print(n1 * n2)\n",
        "  elif sign == '/':\n",
        "    print(n1 / n2)"
      ]
    },
    {
      "cell_type": "code",
      "execution_count": null,
      "metadata": {
        "colab": {
          "base_uri": "https://localhost:8080/"
        },
        "id": "2uw1h1E7MfME",
        "outputId": "ec3e0de0-2f53-4a88-9416-48b2e503a3cb"
      },
      "outputs": [
        {
          "name": "stdout",
          "output_type": "stream",
          "text": [
            "Enter the first number: 3\n",
            "Enter the operation: *\n",
            "Enter the second number: 5\n",
            "15\n"
          ]
        }
      ],
      "source": [
        "calc()"
      ]
    },
    {
      "cell_type": "code",
      "execution_count": null,
      "metadata": {
        "id": "oZIEprqcOBXP"
      },
      "outputs": [],
      "source": [
        "def add(n1, n2 = 10): #Hna n1 w n2 parameters w n2 lw el user md5lo4 hyb2a b 10 by default bs lw d5lo hya5do bel value el user md5lha 3ady\n",
        "  print(n1 + n2)"
      ]
    },
    {
      "cell_type": "code",
      "execution_count": null,
      "metadata": {
        "colab": {
          "base_uri": "https://localhost:8080/"
        },
        "id": "y_kK77SXOHi9",
        "outputId": "fcea3938-b910-43c1-f25a-88811255e555"
      },
      "outputs": [
        {
          "name": "stdout",
          "output_type": "stream",
          "text": [
            "10\n"
          ]
        }
      ],
      "source": [
        "add(5, 5)"
      ]
    },
    {
      "cell_type": "markdown",
      "metadata": {
        "id": "zxBuGVKenQc2"
      },
      "source": [
        "#Data Structure\n",
        "\n",
        "( List[], Dictionary{}, Tuple(), Set{} )\n",
        "3andy data kbera m4 3ayza a5znha fe kza variable, fb5znha kolha fe variable wa7ed mn el data structures de, el 25tlaf benhom en kol wa7da fehom gwaha built-in fuctions mo5tlfa w brdu tre2et el ta5zen fehom mo5tlfa"
      ]
    },
    {
      "cell_type": "markdown",
      "metadata": {
        "id": "rB0Pdpebo-3t"
      },
      "source": [
        "# List\n",
        "indices starts from 0\n",
        "Momken 25zn gwaha data types mo5tlfa"
      ]
    },
    {
      "cell_type": "code",
      "execution_count": 12,
      "metadata": {
        "colab": {
          "base_uri": "https://localhost:8080/"
        },
        "id": "l0NG1lknpCk0",
        "outputId": "1ce8d845-53b0-4f75-9282-e62f71025409"
      },
      "outputs": [
        {
          "output_type": "stream",
          "name": "stdout",
          "text": [
            "<class 'list'>\n"
          ]
        },
        {
          "output_type": "execute_result",
          "data": {
            "text/plain": [
              "2"
            ]
          },
          "metadata": {},
          "execution_count": 12
        }
      ],
      "source": [
        "x = [1, 2, 3, 4, 5, 'Malak', 3.5, True]\n",
        "print(type(x))\n",
        "x[1] #refers to 2 because the 1 in the square brackets refers to the index not the value"
      ]
    },
    {
      "cell_type": "code",
      "execution_count": 13,
      "metadata": {
        "colab": {
          "base_uri": "https://localhost:8080/"
        },
        "id": "O7vuf1fSrpzi",
        "outputId": "16807ce4-2a67-42ea-c918-c0846020fee8"
      },
      "outputs": [
        {
          "output_type": "execute_result",
          "data": {
            "text/plain": [
              "[1, 2, 3, 4, 5, 'Malak', 3.5, True, 10]"
            ]
          },
          "metadata": {},
          "execution_count": 13
        }
      ],
      "source": [
        "x.append(10)\n",
        "x"
      ]
    },
    {
      "cell_type": "markdown",
      "metadata": {
        "id": "lj8Db4yKstiV"
      },
      "source": [
        "lw ana 3ayza 25od msln el esm tholathy as an input from the user f kol ma ya5od esm mn el 3 names dol el esm el 2ablo hytms7 mn el variable f el solution hna enna n5znhom fe list like that:"
      ]
    },
    {
      "cell_type": "code",
      "execution_count": 14,
      "metadata": {
        "colab": {
          "base_uri": "https://localhost:8080/"
        },
        "id": "tSn-n76mti-N",
        "outputId": "de2ee880-21a9-4a00-ed95-b415bccf47ff"
      },
      "outputs": [
        {
          "name": "stdout",
          "output_type": "stream",
          "text": [
            "Enter the name: Malak\n",
            "Enter the name: Mohamed\n",
            "Enter the name: Ahmed\n"
          ]
        },
        {
          "output_type": "execute_result",
          "data": {
            "text/plain": [
              "['Malak', 'Mohamed', 'Ahmed']"
            ]
          },
          "metadata": {},
          "execution_count": 14
        }
      ],
      "source": [
        "names = []\n",
        "for i in range(3):\n",
        "  names.append(input('Enter the name: '))\n",
        "na"
      ]
    },
    {
      "cell_type": "markdown",
      "metadata": {
        "id": "GQavEv8BpiTy"
      },
      "source": [
        "# Dictionary\n",
        "{ key,\n",
        "\n",
        "value\n",
        "}"
      ]
    },
    {
      "cell_type": "code",
      "execution_count": 15,
      "metadata": {
        "colab": {
          "base_uri": "https://localhost:8080/"
        },
        "id": "inSdmN22pssc",
        "outputId": "40722ab7-f8bf-4635-88c6-f76003cd2a43"
      },
      "outputs": [
        {
          "output_type": "execute_result",
          "data": {
            "text/plain": [
              "25"
            ]
          },
          "metadata": {},
          "execution_count": 15
        }
      ],
      "source": [
        "x = { 'name' : 'Malak',\n",
        "     'age' : 25}\n",
        "x['age']"
      ]
    },
    {
      "cell_type": "markdown",
      "metadata": {
        "id": "B2mrMSUWyHE0"
      },
      "source": [
        "### Tuple()\n",
        "value gwa variable malesh access 3leha bs by2bl el repeated values"
      ]
    },
    {
      "cell_type": "markdown",
      "metadata": {
        "id": "BFZ0wj_Hyajz"
      },
      "source": [
        "### Sets\n",
        "zy el tuple bzbt bs msh bt2bl el repeated values"
      ]
    }
  ],
  "metadata": {
    "colab": {
      "provenance": []
    },
    "kernelspec": {
      "display_name": "Python 3",
      "name": "python3"
    },
    "language_info": {
      "name": "python"
    }
  },
  "nbformat": 4,
  "nbformat_minor": 0
}